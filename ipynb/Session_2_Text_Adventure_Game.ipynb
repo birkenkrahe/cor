{
 "cells": [
  {
   "cell_type": "markdown",
   "id": "be288942",
   "metadata": {},
   "source": [
    "# Session 2: Expanding the Game and Adding Loops\n",
    "In this session, we will learn to use loops to add replayability and expand the game storyline with more paths and outcomes."
   ]
  },
  {
   "cell_type": "markdown",
   "id": "81dab59d",
   "metadata": {},
   "source": [
    "## Objectives\n",
    "- Use loops to add replayability\n",
    "- Learn nested conditionals for complex choices\n",
    "- Expand the storyline with more paths and outcomes"
   ]
  },
  {
   "cell_type": "markdown",
   "id": "c9051e9c",
   "metadata": {},
   "source": [
    "## Review of Previous Session\n",
    "Recap the game structure created in Session 1. Discuss any modifications students made for homework."
   ]
  },
  {
   "cell_type": "markdown",
   "id": "4de9e921",
   "metadata": {},
   "source": [
    "## Introducing Loops\n",
    "Using loops like the `while` loop allows the game to repeat until the player decides to quit.\n",
    "```python\n",
    "playing = True\n",
    "\n",
    "while playing:\n",
    "    # Game code goes here\n",
    "\n",
    "    play_again = input('Do you want to play again? (yes/no) ')\n",
    "    if play_again.lower() != 'yes':\n",
    "        playing = False\n",
    "```"
   ]
  },
  {
   "cell_type": "code",
   "execution_count": null,
   "id": "fef0eece",
   "metadata": {},
   "outputs": [],
   "source": [
    "playing = True\n",
    "\n",
    "while playing:\n",
    "    print('You wake up in a dark forest.')\n",
    "    print('There are two paths in front of you.')\n",
    "    choice = input(\"Do you choose the 'left' path or the 'right' path? \")\n",
    "\n",
    "    if choice.lower() == 'left':\n",
    "        print('You encounter a friendly squirrel who shows you the way out.')\n",
    "        next_choice = input('Do you follow the squirrel or go your own way? ')\n",
    "\n",
    "        if next_choice.lower() == 'follow':\n",
    "            print('The squirrel leads you to a hidden village. You win!')\n",
    "        else:\n",
    "            print('You get lost and eventually find yourself back where you started.')\n",
    "    elif choice.lower() == 'right':\n",
    "        print('You fall into a trap! Game over.')\n",
    "    else:\n",
    "        print('You hesitate and wander aimlessly. Try again.')\n",
    "\n",
    "    play_again = input('Do you want to play again? (yes/no) ')\n",
    "    if play_again.lower() != 'yes':\n",
    "        playing = False\n",
    "\n",
    "print('Thank you for playing!')"
   ]
  },
  {
   "cell_type": "markdown",
   "id": "fbc6b260",
   "metadata": {},
   "source": [
    "## Homework\n",
    "Expand the game by adding more choices and outcomes. Try incorporating new game mechanics like inventory items or score tracking."
   ]
  }
 ],
 "metadata": {},
 "nbformat": 4,
 "nbformat_minor": 5
}
