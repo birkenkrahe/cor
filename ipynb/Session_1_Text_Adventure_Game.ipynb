{
 "cells": [
  {
   "cell_type": "markdown",
   "id": "c1d8c6f1",
   "metadata": {},
   "source": [
    "# Session 1: Introduction to the Text Adventure Game\n",
    "This session introduces the concept of text-based adventure games and covers basic Python programming constructs like variables, input/output, and conditionals."
   ]
  },
  {
   "cell_type": "markdown",
   "id": "0b3bca29",
   "metadata": {},
   "source": [
    "## Objectives\n",
    "- Understand text-based adventure games\n",
    "- Learn basic Python programming: variables, input/output, and conditionals\n",
    "- Implement the initial game setup with a simple storyline"
   ]
  },
  {
   "cell_type": "markdown",
   "id": "667c072c",
   "metadata": {},
   "source": [
    "## Introduction\n",
    "A text-based adventure game is an interactive story where players make choices that affect the outcome. For example, 'You are standing at a crossroads. You can go left or right. What do you choose?'"
   ]
  },
  {
   "cell_type": "markdown",
   "id": "70ab4524",
   "metadata": {},
   "source": [
    "## Basic Python Refresher\n",
    "### Variables and Data Types\n",
    "```python\n",
    "name = 'Alice'  # String\n",
    "age = 25        # Integer\n",
    "```"
   ]
  },
  {
   "cell_type": "code",
   "execution_count": null,
   "id": "8f8b9a02",
   "metadata": {},
   "outputs": [],
   "source": [
    "name = 'Alice'\n",
    "age = 25\n",
    "print(f'{name} is {age} years old.')"
   ]
  },
  {
   "cell_type": "markdown",
   "id": "aa2988f8",
   "metadata": {},
   "source": [
    "### Input and Output\n",
    "```python\n",
    "user_input = input('Enter something: ')\n",
    "print('You entered:', user_input)\n",
    "```"
   ]
  },
  {
   "cell_type": "code",
   "execution_count": null,
   "id": "56a404b0",
   "metadata": {},
   "outputs": [],
   "source": [
    "user_input = input('Enter something: ')\n",
    "print('You entered:', user_input)"
   ]
  },
  {
   "cell_type": "markdown",
   "id": "065b79e1",
   "metadata": {},
   "source": [
    "## Game Setup\n",
    "Let's start coding a simple text-based adventure game:\n",
    "```python\n",
    "print('You wake up in a dark forest.')\n",
    "print('There are two paths in front of you.')\n",
    "choice = input(\"Do you choose the 'left' path or the 'right' path? \")\n",
    "\n",
    "if choice.lower() == 'left':\n",
    "    print('You encounter a friendly squirrel who shows you the way out.')\n",
    "elif choice.lower() == 'right':\n",
    "    print('You fall into a trap! Game over.')\n",
    "else:\n",
    "    print('You hesitate and wander aimlessly. Try again.')\n",
    "```"
   ]
  },
  {
   "cell_type": "code",
   "execution_count": null,
   "id": "f1286b3a",
   "metadata": {},
   "outputs": [],
   "source": [
    "print('You wake up in a dark forest.')\n",
    "print('There are two paths in front of you.')\n",
    "choice = input(\"Do you choose the 'left' path or the 'right' path? \")\n",
    "\n",
    "if choice.lower() == 'left':\n",
    "    print('You encounter a friendly squirrel who shows you the way out.')\n",
    "elif choice.lower() == 'right':\n",
    "    print('You fall into a trap! Game over.')\n",
    "else:\n",
    "    print('You hesitate and wander aimlessly. Try again.')"
   ]
  },
  {
   "cell_type": "markdown",
   "id": "64a90fe7",
   "metadata": {},
   "source": [
    "## Homework\n",
    "Modify the game to add more choices or different outcomes. For example, include a third option or add a new scene if the player succeeds."
   ]
  }
 ],
 "metadata": {},
 "nbformat": 4,
 "nbformat_minor": 5
}
